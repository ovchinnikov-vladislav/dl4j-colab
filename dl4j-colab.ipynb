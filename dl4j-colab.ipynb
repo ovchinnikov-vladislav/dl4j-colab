{
  "nbformat": 4,
  "nbformat_minor": 0,
  "metadata": {
    "colab": {
      "name": "dl4j-examples-1.ipynb",
      "version": "0.3.2",
      "provenance": [],
      "collapsed_sections": [],
      "include_colab_link": true
    },
    "kernelspec": {
      "name": "python3",
      "display_name": "Python 3"
    }
  },
  "cells": [
    {
      "cell_type": "markdown",
      "metadata": {
        "id": "view-in-github",
        "colab_type": "text"
      },
      "source": [
        "<a href=\"https://colab.research.google.com/github/princedl/dl4j-colab/blob/master/dl4j-colab.ipynb\" target=\"_parent\"><img src=\"https://colab.research.google.com/assets/colab-badge.svg\" alt=\"Open In Colab\"/></a>"
      ]
    },
    {
      "metadata": {
        "id": "RqbOqnVp9-32",
        "colab_type": "text"
      },
      "cell_type": "markdown",
      "source": [
        "\n",
        "# Run deeplearning4j on Google colab\n",
        "\n",
        "This notebook runs the dl4j-examples on google colab. Execute the section *Access the dl4j-ui via a SSH tunnel* if you need access to the dl4j web-ui's.\n",
        "\n",
        "\n",
        "NOTE: This notebook builds only the dl4j-examples module by default, change ```MODULE``` below to build another module - or set ```MODULE``` to ```.``` to build them all.\n",
        "\n",
        "\n"
      ]
    },
    {
      "metadata": {
        "id": "eg8I9wvK0RSS",
        "colab_type": "code",
        "colab": {}
      },
      "cell_type": "code",
      "source": [
        "MODULE=\"dl4j-examples\""
      ],
      "execution_count": 0,
      "outputs": []
    },
    {
      "metadata": {
        "id": "pmY9QU6Id_lQ",
        "colab_type": "text"
      },
      "cell_type": "markdown",
      "source": [
        "Install maven & JAVA 8"
      ]
    },
    {
      "metadata": {
        "id": "Hc5HZj_ujl7S",
        "colab_type": "code",
        "colab": {}
      },
      "cell_type": "code",
      "source": [
        "!apt-get install maven\n",
        "!apt-get install openjdk-8-jdk\n",
        "!apt-get install openjfx"
      ],
      "execution_count": 0,
      "outputs": []
    },
    {
      "metadata": {
        "id": "7TOfcYrqHkGO",
        "colab_type": "text"
      },
      "cell_type": "markdown",
      "source": [
        "Run the cell below and activate JAVA 8"
      ]
    },
    {
      "metadata": {
        "id": "dnA0wH9nj6sv",
        "colab_type": "code",
        "colab": {}
      },
      "cell_type": "code",
      "source": [
        "!update-alternatives --config java\n"
      ],
      "execution_count": 0,
      "outputs": []
    },
    {
      "metadata": {
        "id": "4r1H_LgxjBiU",
        "colab_type": "text"
      },
      "cell_type": "markdown",
      "source": [
        "Clone the dl4j-examples repository\n"
      ]
    },
    {
      "metadata": {
        "id": "htuFRvPNcj_n",
        "colab_type": "code",
        "colab": {}
      },
      "cell_type": "code",
      "source": [
        "!git clone https://github.com/deeplearning4j/dl4j-examples.git"
      ],
      "execution_count": 0,
      "outputs": []
    },
    {
      "metadata": {
        "id": "XBCRK0kV6t7V",
        "colab_type": "text"
      },
      "cell_type": "markdown",
      "source": [
        "Move to the directory of the module to build"
      ]
    },
    {
      "metadata": {
        "id": "h-lSNKfc6qeg",
        "colab_type": "code",
        "colab": {}
      },
      "cell_type": "code",
      "source": [
        "%cd /content/dl4j-examples/{MODULE}\n",
        "!ls -al"
      ],
      "execution_count": 0,
      "outputs": []
    },
    {
      "metadata": {
        "id": "rcwuKSnYcCoo",
        "colab_type": "text"
      },
      "cell_type": "markdown",
      "source": [
        "Compile the examples\n",
        "\n",
        "NOTE: This runs for a while when executed for the first time as it downloads all the dependencies. As it generates a lot of output we pipe it into a file and check afterwards if all went well. This takes up to 2 minutes for the ```dl4j-examples````dl4j-examples``` module."
      ]
    },
    {
      "metadata": {
        "id": "pv4ni7faJttu",
        "colab_type": "code",
        "colab": {}
      },
      "cell_type": "code",
      "source": [
        "!mvn compile &>compile.log"
      ],
      "execution_count": 0,
      "outputs": []
    },
    {
      "metadata": {
        "id": "ZddEsZUNgJI_",
        "colab_type": "code",
        "colab": {}
      },
      "cell_type": "code",
      "source": [
        "!tail -30 compile.log"
      ],
      "execution_count": 0,
      "outputs": []
    },
    {
      "metadata": {
        "id": "FCsNrIKZdUyI",
        "colab_type": "text"
      },
      "cell_type": "markdown",
      "source": [
        "Package the examples\n",
        "\n",
        "NOTE: This will create an Uber-jar which can take up to 5 minutes for the ```dl4j-examples``` module."
      ]
    },
    {
      "metadata": {
        "id": "pCz8VdRwRduP",
        "colab_type": "code",
        "colab": {}
      },
      "cell_type": "code",
      "source": [
        "!mvn package "
      ],
      "execution_count": 0,
      "outputs": []
    },
    {
      "metadata": {
        "id": "mktyTNJTjjmC",
        "colab_type": "text"
      },
      "cell_type": "markdown",
      "source": [
        "List all examples (Code is taken from ```dl4j-examples/runexamples.sh```)"
      ]
    },
    {
      "metadata": {
        "id": "y17waunSjcdk",
        "colab_type": "code",
        "colab": {}
      },
      "cell_type": "code",
      "source": [
        "!cd ./src/main/java/ && find . -name '*.java' -exec grep -l 'void main' {} \\; | sed \"s?/?.?g\" | sed \"s?^\\.*\\(.*\\)\\.java?\\1?\""
      ],
      "execution_count": 0,
      "outputs": []
    },
    {
      "metadata": {
        "id": "nNxBrZynCxQd",
        "colab_type": "text"
      },
      "cell_type": "markdown",
      "source": [
        "Set ```CLASS_TO_RUN``` to the example main class name to execute it."
      ]
    },
    {
      "metadata": {
        "id": "l3V57Y45NQVt",
        "colab_type": "code",
        "colab": {}
      },
      "cell_type": "code",
      "source": [
        "CLASS_TO_RUN = \"org.deeplearning4j.examples.arbiter.BasicHyperparameterOptimizationExample\" \n",
        "#Run dl4j-web-guis on port 9001 to avoid a port conflict on colab\n",
        "!mvn exec:java -Dexec.mainClass={CLASS_TO_RUN} -Dorg.deeplearning4j.ui.port=9001 "
      ],
      "execution_count": 0,
      "outputs": []
    },
    {
      "metadata": {
        "id": "SGcWAK1eEP4J",
        "colab_type": "text"
      },
      "cell_type": "markdown",
      "source": [
        "##Access the dl4j-ui via a SSH tunnel\n",
        "\n",
        "To access the dl4j-ui you need to establish an SSH tunnel from the colab-server to a machine with a public IP.\n",
        "\n",
        "\n",
        "Find your public IP\n",
        "https://whatismyipaddress.com/\n",
        "\n",
        "\n",
        "dl4j web-ui's:\n",
        "\n",
        "\n",
        "* TRAIN  | http://localhost:9000/train |\n",
        "* ARBITER |  http://localhost:9000/arbiter |\n",
        "\n",
        "\n"
      ]
    },
    {
      "metadata": {
        "id": "Se69LsBWEXIO",
        "colab_type": "code",
        "colab": {}
      },
      "cell_type": "code",
      "source": [
        "#USER/HOST will be used to open a reverse ssh-tunnel to HOST \n",
        "#so that the dl4j-web-guis cn be accessed from that machine\n",
        "\n",
        "USER = 'pdl'\n",
        "HOST = '84.72.80.86'\n",
        "\n",
        "USER_AT_HOST = USER+\"@\"+HOST\n",
        "\n",
        "print(USER_AT_HOST)\n",
        "\n",
        "#PASSWORD is needed to ssh-copy the public key to USER_AT_HOST\n",
        "PASSWORD = 'ENTER PASSWORD FOR USER_AT_HOST_HERE'"
      ],
      "execution_count": 0,
      "outputs": []
    },
    {
      "metadata": {
        "id": "8wUfmF3Y-X8W",
        "colab_type": "text"
      },
      "cell_type": "markdown",
      "source": [
        "Generate and share a SSH-Key with HOST - this will be used to access the dl4j web-guis remotelly."
      ]
    },
    {
      "metadata": {
        "id": "9YEUi7Ou9LYO",
        "colab_type": "code",
        "colab": {}
      },
      "cell_type": "code",
      "source": [
        "!apt-get install sshpass\n",
        "!apt-get install autossh"
      ],
      "execution_count": 0,
      "outputs": []
    },
    {
      "metadata": {
        "id": "e46pa_DkiEfR",
        "colab_type": "code",
        "colab": {}
      },
      "cell_type": "code",
      "source": [
        "!ssh-keygen -C `hostname`"
      ],
      "execution_count": 0,
      "outputs": []
    },
    {
      "metadata": {
        "id": "6UTZw0un7S2I",
        "colab_type": "code",
        "colab": {}
      },
      "cell_type": "code",
      "source": [
        "!sshpass -p{PASSWORD} ssh-copy-id -o StrictHostKeyChecking=no {USER_AT_HOST}"
      ],
      "execution_count": 0,
      "outputs": []
    },
    {
      "metadata": {
        "id": "T-sMkbjPBgMA",
        "colab_type": "code",
        "colab": {}
      },
      "cell_type": "code",
      "source": [
        "#Run this to check the ssh connection\n",
        "#!ssh -o StrictHostKeyChecking=no {USER_AT_HOST}"
      ],
      "execution_count": 0,
      "outputs": []
    },
    {
      "metadata": {
        "id": "YJvLxAlJgn_G",
        "colab_type": "text"
      },
      "cell_type": "markdown",
      "source": [
        "Open an reverse ssh tunnel from HOST to this colab machine to access the dl4j web gui. Click here to open it https://localhost:9000."
      ]
    },
    {
      "metadata": {
        "id": "jXJ1tcbYDu93",
        "colab_type": "code",
        "colab": {}
      },
      "cell_type": "code",
      "source": [
        "%%bash -s \"$USER_AT_HOST\" --bg --proc bg_proc\n",
        "autossh -vnN -o StrictHostKeyChecking=no -R 9000:localhost:9001 $1 &>file"
      ],
      "execution_count": 0,
      "outputs": []
    },
    {
      "metadata": {
        "id": "jpmsLX5vZz1B",
        "colab_type": "code",
        "colab": {}
      },
      "cell_type": "code",
      "source": [
        "#Use this to check if everything is OK\n",
        "print (bg_proc.pid)\n",
        "\n",
        "%cat file"
      ],
      "execution_count": 0,
      "outputs": []
    },
    {
      "metadata": {
        "id": "ner2JaHwbUAn",
        "colab_type": "code",
        "colab": {}
      },
      "cell_type": "code",
      "source": [
        "!ps -al {bg_proc.pid}\n"
      ],
      "execution_count": 0,
      "outputs": []
    },
    {
      "metadata": {
        "id": "Bdpq4x8fbYyG",
        "colab_type": "code",
        "colab": {}
      },
      "cell_type": "code",
      "source": [
        "#Use this to kill the tunnel process\n",
        "#!kill {{bg_proc.pid}"
      ],
      "execution_count": 0,
      "outputs": []
    }
  ]
}
