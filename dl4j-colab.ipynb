{
  "nbformat": 4,
  "nbformat_minor": 0,
  "metadata": {
    "colab": {
      "name": "dl4j-colab.ipynb",
      "version": "0.3.2",
      "provenance": [],
      "collapsed_sections": [],
      "include_colab_link": true
    },
    "kernelspec": {
      "name": "python3",
      "display_name": "Python 3"
    }
  },
  "cells": [
    {
      "cell_type": "markdown",
      "metadata": {
        "id": "view-in-github",
        "colab_type": "text"
      },
      "source": [
        "<a href=\"https://colab.research.google.com/github/princedl/dl4j-colab/blob/master/dl4j-colab.ipynb\" target=\"_parent\"><img src=\"https://colab.research.google.com/assets/colab-badge.svg\" alt=\"Open In Colab\"/></a>"
      ]
    },
    {
      "metadata": {
        "id": "RqbOqnVp9-32",
        "colab_type": "text"
      },
      "cell_type": "markdown",
      "source": [
        "\n",
        "# Run deeplearning4j on Google colab\n",
        "\n",
        "This notebook runs the dl4j-examples on google colab. Execute the section *Access the dl4j-ui via a SSH tunnel* if you need access to the dl4j web-ui's.\n",
        "\n",
        "\n",
        "NOTE: This notebook builds only the dl4j-examples module by default, change ```MODULE``` below to build another module.\n",
        "\n",
        "\n"
      ]
    },
    {
      "metadata": {
        "id": "eg8I9wvK0RSS",
        "colab_type": "code",
        "colab": {}
      },
      "cell_type": "code",
      "source": [
        "MODULE=\"dl4j-examples\""
      ],
      "execution_count": 0,
      "outputs": []
    },
    {
      "metadata": {
        "id": "pmY9QU6Id_lQ",
        "colab_type": "text"
      },
      "cell_type": "markdown",
      "source": [
        "Install maven & JAVA 8"
      ]
    },
    {
      "metadata": {
        "id": "Hc5HZj_ujl7S",
        "colab_type": "code",
        "colab": {}
      },
      "cell_type": "code",
      "source": [
        "!apt-get install maven\n",
        "!apt-get install openjdk-8-jdk\n",
        "!apt-get install openjfx"
      ],
      "execution_count": 0,
      "outputs": []
    },
    {
      "metadata": {
        "id": "7TOfcYrqHkGO",
        "colab_type": "text"
      },
      "cell_type": "markdown",
      "source": [
        "Run the cell below and activate JAVA 8"
      ]
    },
    {
      "metadata": {
        "id": "dnA0wH9nj6sv",
        "colab_type": "code",
        "colab": {}
      },
      "cell_type": "code",
      "source": [
        "!update-alternatives --config java\n"
      ],
      "execution_count": 0,
      "outputs": []
    },
    {
      "metadata": {
        "id": "4r1H_LgxjBiU",
        "colab_type": "text"
      },
      "cell_type": "markdown",
      "source": [
        "Clone the dl4j-examples repository\n"
      ]
    },
    {
      "metadata": {
        "id": "htuFRvPNcj_n",
        "colab_type": "code",
        "colab": {
          "base_uri": "https://localhost:8080/",
          "height": 119
        },
        "outputId": "b18d8514-92d9-49da-c685-8f09dfb73f81"
      },
      "cell_type": "code",
      "source": [
        "!git clone https://github.com/deeplearning4j/dl4j-examples.git"
      ],
      "execution_count": 1,
      "outputs": [
        {
          "output_type": "stream",
          "text": [
            "Cloning into 'dl4j-examples'...\n",
            "remote: Enumerating objects: 35305, done.\u001b[K\n",
            "remote: Total 35305 (delta 0), reused 0 (delta 0), pack-reused 35305\u001b[K\n",
            "Receiving objects: 100% (35305/35305), 344.08 MiB | 30.77 MiB/s, done.\n",
            "Resolving deltas: 100% (7633/7633), done.\n",
            "Checking out files: 100% (15273/15273), done.\n"
          ],
          "name": "stdout"
        }
      ]
    },
    {
      "metadata": {
        "id": "EdDnYxvn8Y_s",
        "colab_type": "text"
      },
      "cell_type": "markdown",
      "source": [
        "Ammend dl4j-examples."
      ]
    },
    {
      "metadata": {
        "id": "MX39TycD8hL5",
        "colab_type": "code",
        "colab": {
          "base_uri": "https://localhost:8080/",
          "height": 2482
        },
        "outputId": "8ba94b56-4d92-4f37-f135-b759d74f7f73"
      },
      "cell_type": "code",
      "source": [
        "%cat dl4j-examples/runexamples.sh"
      ],
      "execution_count": 4,
      "outputs": [
        {
          "output_type": "stream",
          "text": [
            "#!/usr/bin/env bash\n",
            "# Run one or all of the examples.\n",
            "# Use runexamples.sh -h to see the options.\n",
            "\n",
            "help() {\n",
            "  [ -n \"$1\" ] && echo $1\n",
            "  cat <<-EOF1\n",
            "usage: $0 [-h|--help] [-a|-all] [-n|--no-pauses]\n",
            "where:\n",
            "  -h|--help          Show help and quit\n",
            "  -a|--all           Run all the examples. Default is to prompt for which one to run.\n",
            "  -n|--no-pauses     Don't pause between examples (use with --all).\n",
            "}\n",
            "EOF1\n",
            "}\n",
            "\n",
            "# This is shown only if all examples are executed.\n",
            "banner() {\n",
            "  if [ $all -eq 0 ]\n",
            "  then\n",
            "    cat <<-EOF2\n",
            "=======================================================================\n",
            "\n",
            "    deeplearning4j examples:\n",
            "\n",
            "    Each example will be executed, then some of them will pop up a\n",
            "    dialog with a data plot. Quit the data plot application to proceed\n",
            "    to the next example.\n",
            "EOF2\n",
            "    if [ $pauses -eq 0 ]\n",
            "    then\n",
            "    cat <<-EOF2\n",
            "\n",
            "    We'll pause after each one; hit <return> to continue or <ctrl-c>\n",
            "    to quit.\n",
            "EOF2\n",
            "    fi\n",
            "    cat <<-EOF3\n",
            "\n",
            "=======================================================================\n",
            "EOF3\n",
            "  fi\n",
            "}\n",
            "\n",
            "\n",
            "let all=1\n",
            "let pauses=0\n",
            "while [ $# -ne 0 ]\n",
            "do\n",
            "  case $1 in\n",
            "    -h|--h*)\n",
            "      help\n",
            "      exit 0\n",
            "      ;;\n",
            "    -a|--a*)\n",
            "      let all=0\n",
            "      ;;\n",
            "    -n|--n*)\n",
            "      let pauses=1\n",
            "      ;;\n",
            "    *)\n",
            "      help \"Unrecognized argument $1\"\n",
            "      exit 1\n",
            "      ;;\n",
            "  esac\n",
            "  shift\n",
            "done\n",
            "\n",
            "# Most have class names that end with \"Example\", but not all.\n",
            "# So, we use a hack; we search the Java files for \"void main\"\n",
            "# to find all of them.\n",
            "\n",
            "dir=$PWD\n",
            "cd dl4j-examples/src/main/java\n",
            "\n",
            "find_examples() {\n",
            "  # Find all the Java files with \"main\" routines, then replace\n",
            "  # all '/' with '.', then remove extraneous leading '.' and\n",
            "  # the file extension, yielding the fully-qualified class name.\n",
            "  find . -name '*.java' -exec grep -l 'void main' {} \\; | \\\n",
            "    sed \"s?/?.?g\" | sed \"s?^\\.*\\(.*\\)\\.java?\\1?\"\n",
            "}\n",
            "\n",
            "# The following works because IFS, the \"field\" separator is \\n.\n",
            "# So, substituting the result of find_examples into the the\n",
            "# string and then evaluating the array definition, produces\n",
            "# an array of the class names!\n",
            "eval \"arr=($(find_examples))\"\n",
            "\n",
            "cd $dir\n",
            "\n",
            "# Invoke with\n",
            "#   NOOP=echo runexamples.sh\n",
            "# to echo the command, but not run it.\n",
            "runit() {\n",
            "  echo; echo \"====== $1\"; echo\n",
            "  $NOOP java -cp ./dl4j-examples/target/dl4j-examples-*-bin.jar \"$1\"\n",
            "}\n",
            "\n",
            "let which_one=0\n",
            "error=\"ERROR: Must enter a number between 1 and ${#arr[@]}\"\n",
            "re='^[0-9]+$'\n",
            "\n",
            "if [ $all -ne 0 ]\n",
            "then\n",
            "\n",
            "  for index in \"${!arr[@]}\" # ! returns indices instead\n",
            "  do\n",
            "    let i=$index+1\n",
            "    echo \"[$(printf \"%2d\" $i)] ${arr[$index]}\"\n",
            "  done\n",
            "  printf \"\\nEnter a number for the example to run (q to quit): \"\n",
            "  read which_one\n",
            "  if [ -z \"$which_one\" ]; then\n",
            "    echo $error\n",
            "    exit 1\n",
            "  elif [ $which_one = 'q' ]; then\n",
            "    exit 0\n",
            "  elif ! [[ $which_one =~ $re ]]; then \n",
            "    echo $error\n",
            "    exit 1\n",
            "  elif [ $which_one -le 0 -o $which_one -gt ${#arr[@]} ]; then\n",
            "    echo $error\n",
            "    exit 1\n",
            "  else\n",
            "    let which_one=$which_one-1\n",
            "  fi\n",
            "\n",
            "  runit ${arr[$which_one]}\n",
            "\n",
            "else\n",
            "\n",
            "  banner\n",
            "\n",
            "  # now loop through the above array\n",
            "  for e in \"${arr[@]}\"\n",
            "  do\n",
            "    runit \"$e\"\n",
            "    if [ $pauses -eq 0 ]\n",
            "    then\n",
            "      echo; echo -n \"hit return to continue: \"\n",
            "      read toss\n",
            "    fi\n",
            "  done\n",
            "fi\n"
          ],
          "name": "stdout"
        }
      ]
    },
    {
      "metadata": {
        "id": "oAR1lh2r9BkU",
        "colab_type": "code",
        "colab": {
          "base_uri": "https://localhost:8080/",
          "height": 2482
        },
        "outputId": "17cff972-1fa2-4e02-a5e3-1a549bf32fd6"
      },
      "cell_type": "code",
      "source": [
        "!sed -i -e 's/java -cp/java -Dorg.deeplearning4j.ui.port=9001 -cp/' dl4j-examples/runexamples.sh"
      ],
      "execution_count": 5,
      "outputs": [
        {
          "output_type": "stream",
          "text": [
            "#!/usr/bin/env bash\n",
            "# Run one or all of the examples.\n",
            "# Use runexamples.sh -h to see the options.\n",
            "\n",
            "help() {\n",
            "  [ -n \"$1\" ] && echo $1\n",
            "  cat <<-EOF1\n",
            "usage: $0 [-h|--help] [-a|-all] [-n|--no-pauses]\n",
            "where:\n",
            "  -h|--help          Show help and quit\n",
            "  -a|--all           Run all the examples. Default is to prompt for which one to run.\n",
            "  -n|--no-pauses     Don't pause between examples (use with --all).\n",
            "}\n",
            "EOF1\n",
            "}\n",
            "\n",
            "# This is shown only if all examples are executed.\n",
            "banner() {\n",
            "  if [ $all -eq 0 ]\n",
            "  then\n",
            "    cat <<-EOF2\n",
            "=======================================================================\n",
            "\n",
            "    deeplearning4j examples:\n",
            "\n",
            "    Each example will be executed, then some of them will pop up a\n",
            "    dialog with a data plot. Quit the data plot application to proceed\n",
            "    to the next example.\n",
            "EOF2\n",
            "    if [ $pauses -eq 0 ]\n",
            "    then\n",
            "    cat <<-EOF2\n",
            "\n",
            "    We'll pause after each one; hit <return> to continue or <ctrl-c>\n",
            "    to quit.\n",
            "EOF2\n",
            "    fi\n",
            "    cat <<-EOF3\n",
            "\n",
            "=======================================================================\n",
            "EOF3\n",
            "  fi\n",
            "}\n",
            "\n",
            "\n",
            "let all=1\n",
            "let pauses=0\n",
            "while [ $# -ne 0 ]\n",
            "do\n",
            "  case $1 in\n",
            "    -h|--h*)\n",
            "      help\n",
            "      exit 0\n",
            "      ;;\n",
            "    -a|--a*)\n",
            "      let all=0\n",
            "      ;;\n",
            "    -n|--n*)\n",
            "      let pauses=1\n",
            "      ;;\n",
            "    *)\n",
            "      help \"Unrecognized argument $1\"\n",
            "      exit 1\n",
            "      ;;\n",
            "  esac\n",
            "  shift\n",
            "done\n",
            "\n",
            "# Most have class names that end with \"Example\", but not all.\n",
            "# So, we use a hack; we search the Java files for \"void main\"\n",
            "# to find all of them.\n",
            "\n",
            "dir=$PWD\n",
            "cd dl4j-examples/src/main/java\n",
            "\n",
            "find_examples() {\n",
            "  # Find all the Java files with \"main\" routines, then replace\n",
            "  # all '/' with '.', then remove extraneous leading '.' and\n",
            "  # the file extension, yielding the fully-qualified class name.\n",
            "  find . -name '*.java' -exec grep -l 'void main' {} \\; | \\\n",
            "    sed \"s?/?.?g\" | sed \"s?^\\.*\\(.*\\)\\.java?\\1?\"\n",
            "}\n",
            "\n",
            "# The following works because IFS, the \"field\" separator is \\n.\n",
            "# So, substituting the result of find_examples into the the\n",
            "# string and then evaluating the array definition, produces\n",
            "# an array of the class names!\n",
            "eval \"arr=($(find_examples))\"\n",
            "\n",
            "cd $dir\n",
            "\n",
            "# Invoke with\n",
            "#   NOOP=echo runexamples.sh\n",
            "# to echo the command, but not run it.\n",
            "runit() {\n",
            "  echo; echo \"====== $1\"; echo\n",
            "  $NOOP java -Dorg.deeplearning4j.ui.port=9001 -cp ./dl4j-examples/target/dl4j-examples-*-bin.jar \"$1\"\n",
            "}\n",
            "\n",
            "let which_one=0\n",
            "error=\"ERROR: Must enter a number between 1 and ${#arr[@]}\"\n",
            "re='^[0-9]+$'\n",
            "\n",
            "if [ $all -ne 0 ]\n",
            "then\n",
            "\n",
            "  for index in \"${!arr[@]}\" # ! returns indices instead\n",
            "  do\n",
            "    let i=$index+1\n",
            "    echo \"[$(printf \"%2d\" $i)] ${arr[$index]}\"\n",
            "  done\n",
            "  printf \"\\nEnter a number for the example to run (q to quit): \"\n",
            "  read which_one\n",
            "  if [ -z \"$which_one\" ]; then\n",
            "    echo $error\n",
            "    exit 1\n",
            "  elif [ $which_one = 'q' ]; then\n",
            "    exit 0\n",
            "  elif ! [[ $which_one =~ $re ]]; then \n",
            "    echo $error\n",
            "    exit 1\n",
            "  elif [ $which_one -le 0 -o $which_one -gt ${#arr[@]} ]; then\n",
            "    echo $error\n",
            "    exit 1\n",
            "  else\n",
            "    let which_one=$which_one-1\n",
            "  fi\n",
            "\n",
            "  runit ${arr[$which_one]}\n",
            "\n",
            "else\n",
            "\n",
            "  banner\n",
            "\n",
            "  # now loop through the above array\n",
            "  for e in \"${arr[@]}\"\n",
            "  do\n",
            "    runit \"$e\"\n",
            "    if [ $pauses -eq 0 ]\n",
            "    then\n",
            "      echo; echo -n \"hit return to continue: \"\n",
            "      read toss\n",
            "    fi\n",
            "  done\n",
            "fi\n"
          ],
          "name": "stdout"
        }
      ]
    },
    {
      "metadata": {
        "id": "XBCRK0kV6t7V",
        "colab_type": "text"
      },
      "cell_type": "markdown",
      "source": [
        "Move to the directory of the module to build"
      ]
    },
    {
      "metadata": {
        "id": "h-lSNKfc6qeg",
        "colab_type": "code",
        "colab": {}
      },
      "cell_type": "code",
      "source": [
        "%cd /content/dl4j-examples/{MODULE}\n",
        "!ls -al"
      ],
      "execution_count": 0,
      "outputs": []
    },
    {
      "metadata": {
        "id": "rcwuKSnYcCoo",
        "colab_type": "text"
      },
      "cell_type": "markdown",
      "source": [
        "Compile the examples\n",
        "\n",
        "NOTE: This runs for a while when executed for the first time as it downloads all the dependencies. As it generates a lot of output we pipe it into a file and check afterwards if all went well. This takes up to 2 minutes for the ```dl4j-examples``` module."
      ]
    },
    {
      "metadata": {
        "id": "pv4ni7faJttu",
        "colab_type": "code",
        "colab": {}
      },
      "cell_type": "code",
      "source": [
        "!mvn compile &>compile.log"
      ],
      "execution_count": 0,
      "outputs": []
    },
    {
      "metadata": {
        "id": "ZddEsZUNgJI_",
        "colab_type": "code",
        "colab": {}
      },
      "cell_type": "code",
      "source": [
        "!tail -30 compile.log"
      ],
      "execution_count": 0,
      "outputs": []
    },
    {
      "metadata": {
        "id": "FCsNrIKZdUyI",
        "colab_type": "text"
      },
      "cell_type": "markdown",
      "source": [
        "Package the examples\n",
        "\n",
        "NOTE: This will create an Uber-jar which can take up to 5 minutes for the ```dl4j-examples``` module."
      ]
    },
    {
      "metadata": {
        "id": "pCz8VdRwRduP",
        "colab_type": "code",
        "colab": {}
      },
      "cell_type": "code",
      "source": [
        "!mvn package "
      ],
      "execution_count": 0,
      "outputs": []
    },
    {
      "metadata": {
        "id": "mktyTNJTjjmC",
        "colab_type": "text"
      },
      "cell_type": "markdown",
      "source": [
        "List all examples (Code is taken from ```dl4j-examples/runexamples.sh```)"
      ]
    },
    {
      "metadata": {
        "id": "y17waunSjcdk",
        "colab_type": "code",
        "colab": {}
      },
      "cell_type": "code",
      "source": [
        "!cd ./src/main/java/ && find . -name '*.java' -exec grep -l 'void main' {} \\; | sed \"s?/?.?g\" | sed \"s?^\\.*\\(.*\\)\\.java?\\1?\""
      ],
      "execution_count": 0,
      "outputs": []
    },
    {
      "metadata": {
        "id": "nNxBrZynCxQd",
        "colab_type": "text"
      },
      "cell_type": "markdown",
      "source": [
        "Set ```CLASS_TO_RUN``` to the example main class name to execute it."
      ]
    },
    {
      "metadata": {
        "id": "l3V57Y45NQVt",
        "colab_type": "code",
        "colab": {}
      },
      "cell_type": "code",
      "source": [
        "CLASS_TO_RUN = \"org.deeplearning4j.examples.arbiter.BasicHyperparameterOptimizationExample\" \n",
        "#Run dl4j-web-guis on port 9001 to avoid a port conflict on colab\n",
        "!mvn exec:java -Dexec.mainClass={CLASS_TO_RUN} -Dorg.deeplearning4j.ui.port=9001 "
      ],
      "execution_count": 0,
      "outputs": []
    },
    {
      "metadata": {
        "id": "SGcWAK1eEP4J",
        "colab_type": "text"
      },
      "cell_type": "markdown",
      "source": [
        "##Access the dl4j-ui via a SSH tunnel\n",
        "\n",
        "To access the dl4j-ui you need to establish an SSH tunnel from the colab-server to a machine with a public IP.\n",
        "\n",
        "\n",
        "Find your public IP\n",
        "https://whatismyipaddress.com/\n",
        "\n",
        "\n",
        "dl4j web-ui's:\n",
        "\n",
        "\n",
        "* TRAIN  | http://localhost:9000/train |\n",
        "* ARBITER |  http://localhost:9000/arbiter |\n",
        "\n",
        "\n"
      ]
    },
    {
      "metadata": {
        "id": "Se69LsBWEXIO",
        "colab_type": "code",
        "colab": {}
      },
      "cell_type": "code",
      "source": [
        "#USER/HOST will be used to open a reverse ssh-tunnel to HOST \n",
        "#so that the dl4j-web-guis cn be accessed from that machine\n",
        "\n",
        "USER = 'pdl'\n",
        "HOST = '84.72.80.86'\n",
        "\n",
        "USER_AT_HOST = USER+\"@\"+HOST\n",
        "\n",
        "print(USER_AT_HOST)\n",
        "\n",
        "#PASSWORD is needed to ssh-copy the public key to USER_AT_HOST\n",
        "PASSWORD = 'ENTER PASSWORD FOR USER_AT_HOST_HERE'"
      ],
      "execution_count": 0,
      "outputs": []
    },
    {
      "metadata": {
        "id": "8wUfmF3Y-X8W",
        "colab_type": "text"
      },
      "cell_type": "markdown",
      "source": [
        "Generate and share a SSH-Key with HOST - this will be used to access the dl4j web-guis remotelly."
      ]
    },
    {
      "metadata": {
        "id": "9YEUi7Ou9LYO",
        "colab_type": "code",
        "colab": {}
      },
      "cell_type": "code",
      "source": [
        "!apt-get install sshpass\n",
        "!apt-get install autossh"
      ],
      "execution_count": 0,
      "outputs": []
    },
    {
      "metadata": {
        "id": "e46pa_DkiEfR",
        "colab_type": "code",
        "colab": {}
      },
      "cell_type": "code",
      "source": [
        "!ssh-keygen -C `hostname`"
      ],
      "execution_count": 0,
      "outputs": []
    },
    {
      "metadata": {
        "id": "6UTZw0un7S2I",
        "colab_type": "code",
        "colab": {}
      },
      "cell_type": "code",
      "source": [
        "!sshpass -p{PASSWORD} ssh-copy-id -o StrictHostKeyChecking=no {USER_AT_HOST}"
      ],
      "execution_count": 0,
      "outputs": []
    },
    {
      "metadata": {
        "id": "T-sMkbjPBgMA",
        "colab_type": "code",
        "colab": {}
      },
      "cell_type": "code",
      "source": [
        "#Run this to check the ssh connection\n",
        "#!ssh -o StrictHostKeyChecking=no {USER_AT_HOST}"
      ],
      "execution_count": 0,
      "outputs": []
    },
    {
      "metadata": {
        "id": "YJvLxAlJgn_G",
        "colab_type": "text"
      },
      "cell_type": "markdown",
      "source": [
        "Open an reverse ssh tunnel from HOST to this colab machine to access the dl4j web gui. Click here to open it https://localhost:9000."
      ]
    },
    {
      "metadata": {
        "id": "jXJ1tcbYDu93",
        "colab_type": "code",
        "colab": {}
      },
      "cell_type": "code",
      "source": [
        "%%bash -s \"$USER_AT_HOST\" --bg --proc bg_proc\n",
        "autossh -vnN -o StrictHostKeyChecking=no -R 9000:localhost:9001 $1 &>file"
      ],
      "execution_count": 0,
      "outputs": []
    },
    {
      "metadata": {
        "id": "jpmsLX5vZz1B",
        "colab_type": "code",
        "colab": {}
      },
      "cell_type": "code",
      "source": [
        "#Use this to check if everything is OK\n",
        "print (bg_proc.pid)\n",
        "\n",
        "%cat file"
      ],
      "execution_count": 0,
      "outputs": []
    },
    {
      "metadata": {
        "id": "ner2JaHwbUAn",
        "colab_type": "code",
        "colab": {}
      },
      "cell_type": "code",
      "source": [
        "!ps -al {bg_proc.pid}\n"
      ],
      "execution_count": 0,
      "outputs": []
    },
    {
      "metadata": {
        "id": "Bdpq4x8fbYyG",
        "colab_type": "code",
        "colab": {}
      },
      "cell_type": "code",
      "source": [
        "#Use this to kill the tunnel process\n",
        "#!kill {{bg_proc.pid}"
      ],
      "execution_count": 0,
      "outputs": []
    }
  ]
}